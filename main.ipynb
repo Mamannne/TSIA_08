{
 "cells": [
  {
   "cell_type": "markdown",
   "metadata": {},
   "source": [
    "<center><h1>Lab work on linear regression</h1></center>"
   ]
  },
  {
   "cell_type": "markdown",
   "metadata": {},
   "source": [
    "## Part 1"
   ]
  },
  {
   "cell_type": "code",
   "execution_count": 44,
   "metadata": {},
   "outputs": [],
   "source": [
    "# Importing the libraries\n",
    "\n",
    "import pandas as pd\n",
    "import numpy as np\n",
    "import matplotlib.pyplot as plt\n",
    "import scipy.stats as stats\n",
    "import sklearn.linear_model as lm\n"
   ]
  },
  {
   "cell_type": "code",
   "execution_count": null,
   "metadata": {},
   "outputs": [
    {
     "data": {
      "text/html": [
       "<div>\n",
       "<style scoped>\n",
       "    .dataframe tbody tr th:only-of-type {\n",
       "        vertical-align: middle;\n",
       "    }\n",
       "\n",
       "    .dataframe tbody tr th {\n",
       "        vertical-align: top;\n",
       "    }\n",
       "\n",
       "    .dataframe thead th {\n",
       "        text-align: right;\n",
       "    }\n",
       "</style>\n",
       "<table border=\"1\" class=\"dataframe\">\n",
       "  <thead>\n",
       "    <tr style=\"text-align: right;\">\n",
       "      <th></th>\n",
       "      <th>year</th>\n",
       "      <th>gnp</th>\n",
       "      <th>invest</th>\n",
       "      <th>cpi</th>\n",
       "      <th>interest</th>\n",
       "    </tr>\n",
       "  </thead>\n",
       "  <tbody>\n",
       "    <tr>\n",
       "      <th>0</th>\n",
       "      <td>1968</td>\n",
       "      <td>873.4</td>\n",
       "      <td>133.3</td>\n",
       "      <td>82.54</td>\n",
       "      <td>5.16</td>\n",
       "    </tr>\n",
       "    <tr>\n",
       "      <th>1</th>\n",
       "      <td>1969</td>\n",
       "      <td>944.0</td>\n",
       "      <td>149.3</td>\n",
       "      <td>86.79</td>\n",
       "      <td>5.87</td>\n",
       "    </tr>\n",
       "    <tr>\n",
       "      <th>2</th>\n",
       "      <td>1970</td>\n",
       "      <td>992.7</td>\n",
       "      <td>144.2</td>\n",
       "      <td>91.45</td>\n",
       "      <td>5.95</td>\n",
       "    </tr>\n",
       "    <tr>\n",
       "      <th>3</th>\n",
       "      <td>1971</td>\n",
       "      <td>1077.6</td>\n",
       "      <td>166.4</td>\n",
       "      <td>96.01</td>\n",
       "      <td>4.88</td>\n",
       "    </tr>\n",
       "    <tr>\n",
       "      <th>4</th>\n",
       "      <td>1972</td>\n",
       "      <td>1185.9</td>\n",
       "      <td>195.0</td>\n",
       "      <td>100.00</td>\n",
       "      <td>4.50</td>\n",
       "    </tr>\n",
       "  </tbody>\n",
       "</table>\n",
       "</div>"
      ],
      "text/plain": [
       "   year     gnp  invest     cpi  interest\n",
       "0  1968   873.4   133.3   82.54      5.16\n",
       "1  1969   944.0   149.3   86.79      5.87\n",
       "2  1970   992.7   144.2   91.45      5.95\n",
       "3  1971  1077.6   166.4   96.01      4.88\n",
       "4  1972  1185.9   195.0  100.00      4.50"
      ]
     },
     "execution_count": 3,
     "metadata": {},
     "output_type": "execute_result"
    }
   ],
   "source": [
    "# Load the data and visualize the first 5 rows\n",
    "\n",
    "data = pd.read_csv('invest.csv')\n",
    "\n",
    "data.head()"
   ]
  },
  {
   "cell_type": "code",
   "execution_count": null,
   "metadata": {},
   "outputs": [
    {
     "data": {
      "image/png": "[encoded data removed]",
      "text/plain": [
       "<Figure size 432x288 with 1 Axes>"
      ]
     },
     "metadata": {
      "needs_background": "light"
     },
     "output_type": "display_data"
    }
   ],
   "source": [
    "# Visualize the data\n",
    "\n",
    "Invest = data['invest']\n",
    "GNP = data['gnp']\n",
    "\n",
    "plt.scatter(GNP, Invest)\n",
    "plt.xlabel('GNP')\n",
    "plt.ylabel('Invest')\n",
    "plt.title('Invest vs GNP')\n",
    "plt.show()\n"
   ]
  },
  {
   "cell_type": "code",
   "execution_count": 10,
   "metadata": {},
   "outputs": [
    {
     "data": {
      "text/html": [
       "<div>\n",
       "<style scoped>\n",
       "    .dataframe tbody tr th:only-of-type {\n",
       "        vertical-align: middle;\n",
       "    }\n",
       "\n",
       "    .dataframe tbody tr th {\n",
       "        vertical-align: top;\n",
       "    }\n",
       "\n",
       "    .dataframe thead th {\n",
       "        text-align: right;\n",
       "    }\n",
       "</style>\n",
       "<table border=\"1\" class=\"dataframe\">\n",
       "  <thead>\n",
       "    <tr style=\"text-align: right;\">\n",
       "      <th></th>\n",
       "      <th>year</th>\n",
       "      <th>gnp</th>\n",
       "      <th>invest</th>\n",
       "      <th>cpi</th>\n",
       "      <th>interest</th>\n",
       "      <th>log_GNP</th>\n",
       "      <th>log_Invest</th>\n",
       "    </tr>\n",
       "  </thead>\n",
       "  <tbody>\n",
       "    <tr>\n",
       "      <th>0</th>\n",
       "      <td>1968</td>\n",
       "      <td>873.4</td>\n",
       "      <td>133.3</td>\n",
       "      <td>82.54</td>\n",
       "      <td>5.16</td>\n",
       "      <td>6.772394</td>\n",
       "      <td>4.892602</td>\n",
       "    </tr>\n",
       "    <tr>\n",
       "      <th>1</th>\n",
       "      <td>1969</td>\n",
       "      <td>944.0</td>\n",
       "      <td>149.3</td>\n",
       "      <td>86.79</td>\n",
       "      <td>5.87</td>\n",
       "      <td>6.850126</td>\n",
       "      <td>5.005958</td>\n",
       "    </tr>\n",
       "    <tr>\n",
       "      <th>2</th>\n",
       "      <td>1970</td>\n",
       "      <td>992.7</td>\n",
       "      <td>144.2</td>\n",
       "      <td>91.45</td>\n",
       "      <td>5.95</td>\n",
       "      <td>6.900429</td>\n",
       "      <td>4.971201</td>\n",
       "    </tr>\n",
       "    <tr>\n",
       "      <th>3</th>\n",
       "      <td>1971</td>\n",
       "      <td>1077.6</td>\n",
       "      <td>166.4</td>\n",
       "      <td>96.01</td>\n",
       "      <td>4.88</td>\n",
       "      <td>6.982492</td>\n",
       "      <td>5.114395</td>\n",
       "    </tr>\n",
       "    <tr>\n",
       "      <th>4</th>\n",
       "      <td>1972</td>\n",
       "      <td>1185.9</td>\n",
       "      <td>195.0</td>\n",
       "      <td>100.00</td>\n",
       "      <td>4.50</td>\n",
       "      <td>7.078257</td>\n",
       "      <td>5.273000</td>\n",
       "    </tr>\n",
       "  </tbody>\n",
       "</table>\n",
       "</div>"
      ],
      "text/plain": [
       "   year     gnp  invest     cpi  interest   log_GNP  log_Invest\n",
       "0  1968   873.4   133.3   82.54      5.16  6.772394    4.892602\n",
       "1  1969   944.0   149.3   86.79      5.87  6.850126    5.005958\n",
       "2  1970   992.7   144.2   91.45      5.95  6.900429    4.971201\n",
       "3  1971  1077.6   166.4   96.01      4.88  6.982492    5.114395\n",
       "4  1972  1185.9   195.0  100.00      4.50  7.078257    5.273000"
      ]
     },
     "execution_count": 10,
     "metadata": {},
     "output_type": "execute_result"
    }
   ],
   "source": [
    "# Applying log to columns GNP and Invest\n",
    "\n",
    "data['log_GNP'] = np.log(data['gnp'])\n",
    "data['log_Invest'] = np.log(data['invest'])\n",
    "\n",
    "data.head()"
   ]
  },
  {
   "cell_type": "code",
   "execution_count": 16,
   "metadata": {},
   "outputs": [
    {
     "name": "stdout",
     "output_type": "stream",
     "text": [
      "Beta 0: -1.9635913352301815\n",
      "Beta 1: 1.0152814015988707\n"
     ]
    },
    {
     "data": {
      "image/png": "[encoded data removed]",
      "text/plain": [
       "<Figure size 432x288 with 1 Axes>"
      ]
     },
     "metadata": {
      "needs_background": "light"
     },
     "output_type": "display_data"
    }
   ],
   "source": [
    "# Estimating slope and intercept\n",
    "\n",
    "Invest_log_mean = data['log_Invest'].mean()\n",
    "\n",
    "GNP_log_mean = data['log_GNP'].mean()\n",
    "\n",
    "centered_x = data['log_GNP'] - GNP_log_mean\n",
    "centered_y = data['log_Invest'] - Invest_log_mean\n",
    "\n",
    "y_var = np.sum(centered_x * centered_y)\n",
    "x_var = np.sum(centered_x ** 2)\n",
    "\n",
    "beta_1_estimator = y_var / x_var\n",
    "\n",
    "beta_0_estimator = Invest_log_mean - beta_1_estimator * GNP_log_mean\n",
    "\n",
    "print('Beta 0:', beta_0_estimator)\n",
    "print('Beta 1:', beta_1_estimator)\n",
    "\n",
    "plt.scatter(data['log_GNP'], data['log_Invest'])\n",
    "plt.plot(data['log_GNP'], beta_0_estimator + beta_1_estimator * data['log_GNP'], color='red')\n",
    "plt.xlabel('Log GNP')\n",
    "plt.ylabel('Log Invest')\n",
    "plt.title('Log Invest vs Log GNP')\n",
    "plt.show()"
   ]
  },
  {
   "cell_type": "code",
   "execution_count": 18,
   "metadata": {},
   "outputs": [
    {
     "name": "stdout",
     "output_type": "stream",
     "text": [
      "Standard Deviation: 0.007676338555460403\n",
      "Beta 0 std: 0.16772896772604054\n",
      "Beta 1 std: 0.05538306035485282\n"
     ]
    }
   ],
   "source": [
    "# Estimating std \n",
    "\n",
    "var_estimator = np.sum((data['log_Invest'] - (beta_0_estimator + beta_1_estimator * data['log_GNP'])) ** 2) / (len(data) - 2)\n",
    "\n",
    "print('Standard Deviation:', var_estimator)\n",
    "\n",
    "beta_0_std = np.sqrt(var_estimator * (1 / len(data) + GNP_log_mean ** 2 / x_var))\n",
    "\n",
    "beta_1_std = np.sqrt(var_estimator / x_var)\n",
    "\n",
    "print('Beta 0 std:', beta_0_std)\n",
    "print('Beta 1 std:', beta_1_std)"
   ]
  },
  {
   "cell_type": "code",
   "execution_count": 23,
   "metadata": {},
   "outputs": [
    {
     "name": "stdout",
     "output_type": "stream",
     "text": [
      "Test Statistic: 18.33198445686667\n",
      "15\n",
      "Reject Null Hypothesis\n"
     ]
    }
   ],
   "source": [
    "# Testing significance of the slope with alpha = 5%\n",
    "\n",
    "test_statistic = beta_1_estimator / beta_1_std\n",
    "\n",
    "print('Test Statistic:', test_statistic)\n",
    "\n",
    "print(len(data))\n",
    "\n",
    "t = 2.16\n",
    "\n",
    "flag = test_statistic < t and test_statistic > -t\n",
    "\n",
    "if not flag:\n",
    "    print('Reject Null Hypothesis')\n",
    "else:\n",
    "    print('Fail to Reject Null Hypothesis')\n",
    "\n"
   ]
  },
  {
   "cell_type": "code",
   "execution_count": 29,
   "metadata": {},
   "outputs": [
    {
     "name": "stdout",
     "output_type": "stream",
     "text": [
      "P-value: 1.1363709973011282e-10\n"
     ]
    }
   ],
   "source": [
    "# get p-value\n",
    "\n",
    "p_value = 2 * (1 - stats.t.cdf(test_statistic, len(data) - 2))\n",
    "\n",
    "print('P-value:', p_value)"
   ]
  },
  {
   "cell_type": "code",
   "execution_count": 30,
   "metadata": {},
   "outputs": [
    {
     "name": "stdout",
     "output_type": "stream",
     "text": [
      "Investment for GNP = 1000: 155.9794279310548\n"
     ]
    }
   ],
   "source": [
    "# Predict Invest for GNP = 1000\n",
    "\n",
    "Invest_1000 = np.exp(beta_0_estimator + beta_1_estimator * np.log(1000))\n",
    "\n",
    "print(\"Investment for GNP = 1000:\", Invest_1000)"
   ]
  },
  {
   "cell_type": "code",
   "execution_count": 32,
   "metadata": {},
   "outputs": [
    {
     "name": "stdout",
     "output_type": "stream",
     "text": [
      "CI for GNP = 1000: [4.988220532935454, 5.111227719698148]\n"
     ]
    }
   ],
   "source": [
    "# CI for Invest for GNP = 1000 at 90%\n",
    "\n",
    "t = 1.771\n",
    "\n",
    "CI = [beta_0_estimator + beta_1_estimator * np.log(1000) - t * np.sqrt(var_estimator) * np.sqrt(1 / len(data) + (np.log(1000) - GNP_log_mean) ** 2 / x_var),\n",
    "      beta_0_estimator + beta_1_estimator * np.log(1000) + t * np.sqrt(var_estimator) * np.sqrt(1 / len(data) + (np.log(1000) - GNP_log_mean) ** 2 / x_var)]\n",
    "\n",
    "print( \"CI for GNP = 1000:\", CI)"
   ]
  },
  {
   "cell_type": "code",
   "execution_count": 33,
   "metadata": {},
   "outputs": [
    {
     "name": "stdout",
     "output_type": "stream",
     "text": [
      "PI for GNP = 1000: [4.882813746249997, 5.216634506383604]\n"
     ]
    }
   ],
   "source": [
    "# PI for Invest for GNP = 1000 at 90%\n",
    "\n",
    "t = 1.771\n",
    "\n",
    "PI = [beta_0_estimator + beta_1_estimator * np.log(1000) - t * np.sqrt(var_estimator) * np.sqrt(1 + 1 / len(data) + (np.log(1000) - GNP_log_mean) ** 2 / x_var),\n",
    "    beta_0_estimator + beta_1_estimator * np.log(1000) + t * np.sqrt(var_estimator) * np.sqrt(1 + 1 / len(data) + (np.log(1000) - GNP_log_mean) ** 2 / x_var)]\n",
    "\n",
    "print(\"PI for GNP = 1000:\", PI)"
   ]
  },
  {
   "cell_type": "code",
   "execution_count": 43,
   "metadata": {},
   "outputs": [
    {
     "data": {
      "image/png": "[encoded data removed]",
      "text/plain": [
       "<Figure size 864x576 with 1 Axes>"
      ]
     },
     "metadata": {
      "needs_background": "light"
     },
     "output_type": "display_data"
    }
   ],
   "source": [
    "# visualize the data\n",
    "\n",
    "GNP_range = np.linspace(min(data['log_GNP']), max(data['log_GNP']), 100)\n",
    "confidence_intervals = [beta_0_estimator + beta_1_estimator * GNP_range - t * np.sqrt(var_estimator) * np.sqrt(1 / len(data) + (GNP_range - GNP_log_mean) ** 2 / x_var),\n",
    "                        beta_0_estimator + beta_1_estimator * GNP_range + t * np.sqrt(var_estimator) * np.sqrt(1 / len(data) + (GNP_range - GNP_log_mean) ** 2 / x_var)]\n",
    "prediction_intervals = [beta_0_estimator + beta_1_estimator * GNP_range - t * np.sqrt(var_estimator) * np.sqrt(1 + 1 / len(data) + (GNP_range - GNP_log_mean) ** 2 / x_var),\n",
    "                        beta_0_estimator + beta_1_estimator * GNP_range + t * np.sqrt(var_estimator) * np.sqrt(1 + 1 / len(data) + (GNP_range - GNP_log_mean) ** 2 / x_var)]\n",
    "\n",
    "\n",
    "plt.figure(figsize=(12, 8))\n",
    "plt.scatter(data['log_GNP'], data['log_Invest'])\n",
    "plt.plot(data['log_GNP'], beta_0_estimator + beta_1_estimator * data['log_GNP'], color='red')\n",
    "plt.xlabel('Log GNP')\n",
    "plt.ylabel('Log Invest')\n",
    "plt.fill_between(GNP_range,confidence_intervals[0],confidence_intervals[1], color='blue', alpha=0.2)\n",
    "plt.fill_between(GNP_range,prediction_intervals[0],prediction_intervals[1], color='green', alpha=0.2)\n",
    "plt.title('Log Invest vs Log GNP')\n",
    "plt.legend(['Raw data','Regression Line', 'Confidence Intervals', 'Prediction Intervals'])\n",
    "\n",
    "\n",
    "plt.show()\n"
   ]
  },
  {
   "cell_type": "code",
   "execution_count": 48,
   "metadata": {},
   "outputs": [
    {
     "name": "stdout",
     "output_type": "stream",
     "text": [
      "Beta 0: -1.9635913352301815\n",
      "Beta 1: 1.015281401598871\n"
     ]
    }
   ],
   "source": [
    "# Using sklearn\n",
    "\n",
    "X = data['log_GNP'].values.reshape(-1, 1)\n",
    "y = data['log_Invest'].values.reshape(-1, 1)\n",
    "\n",
    "reg = lm.LinearRegression().fit(X, y)\n",
    "\n",
    "\n",
    "Beta0 = reg.intercept_[0]\n",
    "Beta1 = reg.coef_[0,0]\n",
    "\n",
    "print('Beta 0:', Beta0)\n",
    "print('Beta 1:', Beta1)"
   ]
  },
  {
   "cell_type": "code",
   "execution_count": 54,
   "metadata": {},
   "outputs": [
    {
     "data": {
      "image/png": "[encoded data removed]",
      "text/plain": [
       "<Figure size 864x576 with 1 Axes>"
      ]
     },
     "metadata": {
      "needs_background": "light"
     },
     "output_type": "display_data"
    }
   ],
   "source": [
    "# visualize the data\n",
    "\n",
    "plt.figure(figsize=(12, 8))\n",
    "plt.scatter(X, y, color=\"orange\")\n",
    "plt.plot(X, reg.predict(X), color='green')\n",
    "plt.scatter(X, reg.predict(X), color='red')\n",
    "plt.xlabel('Log GNP')\n",
    "plt.ylabel('Log Invest')\n",
    "plt.title('Log Invest vs Log GNP')\n",
    "plt.legend(['Raw data','Regression Line', 'Predicted Values'])\n",
    "plt.show()\n"
   ]
  },
  {
   "cell_type": "markdown",
   "metadata": {},
   "source": [
    "## Part 2"
   ]
  },
  {
   "cell_type": "code",
   "execution_count": 79,
   "metadata": {},
   "outputs": [
    {
     "name": "stdout",
     "output_type": "stream",
     "text": [
      "Gram Matrix:\n",
      " [[ 1.          7.38352141  7.45266667]\n",
      " [ 7.38352141 54.68323179 55.94590287]\n",
      " [ 7.45266667 55.94590287 62.92371333]]\n"
     ]
    }
   ],
   "source": [
    "# Computing of Gram matrix\n",
    "n = len(data)\n",
    "\n",
    "X = np.zeros((n, 3))\n",
    "\n",
    "X[:, 0] = 1\n",
    "X[:, 1] = data['log_GNP']\n",
    "X[:, 2] = data['interest']\n",
    "\n",
    "Gram_matrix = np.dot(X.T, X)/n\n",
    "\n",
    "print(\"Gram Matrix:\\n\", Gram_matrix)\n"
   ]
  },
  {
   "cell_type": "code",
   "execution_count": 80,
   "metadata": {},
   "outputs": [
    {
     "name": "stdout",
     "output_type": "stream",
     "text": [
      "Eigenvalues: [1.15858127e+02 1.21579798e-03 2.74760242e+00]\n"
     ]
    }
   ],
   "source": [
    "eigenvalues, eigenvectors = np.linalg.eig(Gram_matrix)\n",
    "\n",
    "print(\"Eigenvalues:\", eigenvalues)"
   ]
  },
  {
   "cell_type": "markdown",
   "metadata": {},
   "source": [
    "Note that there is no null eigenvalue, which means our matrix is full rank"
   ]
  },
  {
   "cell_type": "markdown",
   "metadata": {},
   "source": [
    "    "
   ]
  },
  {
   "cell_type": "code",
   "execution_count": 81,
   "metadata": {},
   "outputs": [
    {
     "name": "stdout",
     "output_type": "stream",
     "text": [
      "Beta 0: -2.1804547259139397\n",
      "Beta 1: 1.0512426913200048\n",
      "Beta 2: -0.006528879406112353\n"
     ]
    }
   ],
   "source": [
    "# estimate coefficients\n",
    "\n",
    "\n",
    "tetha = np.linalg.inv(n*Gram_matrix) @ X.T @ y\n",
    "\n",
    "beta0_estimator = tetha[0, 0]\n",
    "beta_1_estimator = tetha[1, 0]\n",
    "beta_2_estimator = tetha[2, 0]\n",
    "\n",
    "print('Beta 0:', beta0_estimator)\n",
    "print('Beta 1:', beta_1_estimator)\n",
    "print('Beta 2:', beta_2_estimator)"
   ]
  }
 ],
 "metadata": {
  "kernelspec": {
   "display_name": "base",
   "language": "python",
   "name": "python3"
  },
  "language_info": {
   "codemirror_mode": {
    "name": "ipython",
    "version": 3
   },
   "file_extension": ".py",
   "mimetype": "text/x-python",
   "name": "python",
   "nbconvert_exporter": "python",
   "pygments_lexer": "ipython3",
   "version": "3.8.8"
  }
 },
 "nbformat": 4,
 "nbformat_minor": 2
}
